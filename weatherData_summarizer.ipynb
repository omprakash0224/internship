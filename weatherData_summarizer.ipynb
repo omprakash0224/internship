{
  "cells": [
    {
      "cell_type": "code",
      "execution_count": null,
      "metadata": {
        "colab": {
          "background_save": true
        },
        "id": "H4Zsmr4fkC8K"
      },
      "outputs": [],
      "source": [
        "import pandas as pd\n",
        "from datetime import datetime\n",
        "from google.colab import files\n",
        "\n",
        "# Function to validate date format (YYYY-MM-DD)\n",
        "def is_valid_date(date_str):\n",
        "    try:\n",
        "        datetime.strptime(date_str, \"%Y-%m-%d\")\n",
        "        return True\n",
        "    except ValueError:\n",
        "        return False\n",
        "\n",
        "# Function to load weather data from uploaded CSV\n",
        "def load_weather_data():\n",
        "    print(\"📂 Please upload your CSV file (with Date, Temperature, Condition columns)\")\n",
        "    uploaded = files.upload()\n",
        "\n",
        "    if not uploaded:\n",
        "        print(\"❌ No file uploaded.\")\n",
        "        return None\n",
        "\n",
        "    file_name = list(uploaded.keys())[0]\n",
        "\n",
        "    try:\n",
        "        df = pd.read_csv(file_name)\n",
        "\n",
        "        # Check required columns\n",
        "        required_columns = {'Date', 'Temperature', 'Condition'}\n",
        "        if not required_columns.issubset(df.columns):\n",
        "            print(\"❌ CSV must contain 'Date', 'Temperature', and 'Condition' columns.\")\n",
        "            return None\n",
        "\n",
        "        # Validate dates\n",
        "        invalid_dates = df[~df['Date'].apply(is_valid_date)]\n",
        "        if not invalid_dates.empty:\n",
        "            print(\"❌ The CSV contains invalid date formats. Please fix them.\")\n",
        "            return None\n",
        "\n",
        "        return df\n",
        "\n",
        "    except Exception as e:\n",
        "        print(f\"❌ Error reading CSV: {e}\")\n",
        "        return None\n",
        "\n",
        "# Function to summarize and export only summary to CSV\n",
        "def summarize_and_export(df):\n",
        "    if df.empty:\n",
        "        print(\"📭 No data to summarize.\")\n",
        "        return\n",
        "\n",
        "    # Sort by date and check trend\n",
        "    df_sorted = df.sort_values(by=\"Date\")\n",
        "    temp_trend = df_sorted[\"Temperature\"].diff().fillna(0)\n",
        "    trend = temp_trend.mean()\n",
        "    trend_str = \"increasing\" if trend > 0 else \"decreasing\" if trend < 0 else \"stable\"\n",
        "\n",
        "    # Create summary\n",
        "    summary = {\n",
        "        \"Average Temperature (°C)\": [df['Temperature'].mean()],\n",
        "        \"Max Temperature (°C)\": [df['Temperature'].max()],\n",
        "        \"Min Temperature (°C)\": [df['Temperature'].min()],\n",
        "        \"Temperature Std Dev\": [df['Temperature'].std()],\n",
        "        \"Most Common Condition\": [df['Condition'].mode()[0]],\n",
        "        \"Temperature Trend\": [trend_str.capitalize()]\n",
        "    }\n",
        "\n",
        "    # Add condition counts\n",
        "    condition_counts = df['Condition'].value_counts().to_dict()\n",
        "    for cond, count in condition_counts.items():\n",
        "        summary[f\"{cond} Days\"] = [count]\n",
        "\n",
        "    summary_df = pd.DataFrame(summary)\n",
        "\n",
        "    print(\"\\n📊 Weather Summary:\")\n",
        "    print(summary_df.T)\n",
        "\n",
        "    # Save only summary\n",
        "    summary_file = \"weather_summary_only.csv\"\n",
        "    summary_df.to_csv(summary_file, index=False)\n",
        "    print(f\"\\n✅ Summary exported as '{summary_file}'.\")\n",
        "\n",
        "    files.download(summary_file)\n",
        "\n",
        "# Run the tool\n",
        "df = load_weather_data()\n",
        "if df is not None:\n",
        "    summarize_and_export(df)"
      ]
    },
    {
      "cell_type": "code",
      "execution_count": null,
      "metadata": {
        "id": "14DsiEVhl3JP"
      },
      "outputs": [],
      "source": []
    }
  ],
  "metadata": {
    "colab": {
      "provenance": [],
      "authorship_tag": "ABX9TyOep1QdEFzAyru7mV9H9s9t"
    },
    "kernelspec": {
      "display_name": "Python 3",
      "name": "python3"
    },
    "language_info": {
      "name": "python"
    }
  },
  "nbformat": 4,
  "nbformat_minor": 0
}